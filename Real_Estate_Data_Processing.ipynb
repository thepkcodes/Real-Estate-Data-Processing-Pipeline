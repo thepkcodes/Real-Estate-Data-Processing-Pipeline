{
 "cells": [
  {
   "cell_type": "code",
   "execution_count": 3,
   "id": "336764bc-dc2b-40c5-84ed-9fa162a06b0d",
   "metadata": {},
   "outputs": [],
   "source": [
    "# Import libraries and setup\n",
    "import pandas as pd\n",
    "import numpy as np"
   ]
  },
  {
   "cell_type": "code",
   "execution_count": 9,
   "id": "2d3dfa55-5139-4170-8c13-16840208d7b3",
   "metadata": {},
   "outputs": [],
   "source": [
    "# RealEstateDataset Class Definition\n",
    "class RealEstateDataset:\n",
    "    def __init__(self):\n",
    "        self.df = pd.DataFrame()\n",
    "\n",
    "    def load_data(self):\n",
    "        self.df = pd.read_csv(\"data/property_data.csv\")\n",
    "        print(self.df.head())\n",
    "        "
   ]
  },
  {
   "cell_type": "code",
   "execution_count": null,
   "id": "edfc59ef-07f9-46ce-afde-0fc98bb97ff4",
   "metadata": {},
   "outputs": [],
   "source": []
  },
  {
   "cell_type": "code",
   "execution_count": null,
   "id": "23f950ae-a649-4ac5-ad76-198b51dfef0c",
   "metadata": {},
   "outputs": [],
   "source": []
  }
 ],
 "metadata": {
  "kernelspec": {
   "display_name": "Python 3 (ipykernel)",
   "language": "python",
   "name": "python3"
  },
  "language_info": {
   "codemirror_mode": {
    "name": "ipython",
    "version": 3
   },
   "file_extension": ".py",
   "mimetype": "text/x-python",
   "name": "python",
   "nbconvert_exporter": "python",
   "pygments_lexer": "ipython3",
   "version": "3.12.7"
  }
 },
 "nbformat": 4,
 "nbformat_minor": 5
}
